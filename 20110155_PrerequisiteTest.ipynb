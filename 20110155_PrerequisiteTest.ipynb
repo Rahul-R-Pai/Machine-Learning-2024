{
  "cells": [
    {
      "cell_type": "code",
      "execution_count": 3,
      "metadata": {
        "id": "0O3uUBrm62m-"
      },
      "outputs": [],
      "source": [
        "import numpy as np\n",
        "import random as r\n",
        "import pandas as pd\n",
        "import matplotlib.pyplot as plt\n",
        "import timeit as tt\n",
        "import statistics as st\n",
        "import jax.numpy as jnp\n",
        "from jax import grad\n",
        "import sympy as smp"
      ]
    },
    {
      "cell_type": "markdown",
      "metadata": {
        "id": "6pgMErNgiEQQ"
      },
      "source": [
        "**1. How many multiplications and additions do you need to perform a matrix multiplication between a (n, k) and (k, m) matrix? Explain.**"
      ]
    },
    {
      "cell_type": "markdown",
      "metadata": {
        "id": "xcxIIIhjNcyk"
      },
      "source": [
        "Every element in the resultant matrix is dot product of the rows (n) and columns (m) of length k.\\\n",
        "For each element, the number of multiplication is k and the number of additions is k-1. This happens for a total of n.m elements.\\\n",
        "Therefore,\\\n",
        "total number of multiplications = n.m.k\\\n",
        "total number of additions = n.m.(k-1)"
      ]
    },
    {
      "cell_type": "markdown",
      "metadata": {
        "id": "nH8ky6L8iXIZ"
      },
      "source": [
        "**2. Write Python code to multiply the above two matrices. Solve using list of lists and then use numpy. Compare the timing of both solutions. Which one is faster? Why?**"
      ]
    },
    {
      "cell_type": "code",
      "execution_count": 4,
      "metadata": {
        "colab": {
          "base_uri": "https://localhost:8080/"
        },
        "id": "MIbhvGpzOrSr",
        "outputId": "1275d746-5354-4575-d722-74bb09fdefe1"
      },
      "outputs": [
        {
          "name": "stdout",
          "output_type": "stream",
          "text": [
            "m1 =  [[9, 6, 8, 8, 5, 1], [1, 1, 2, 8, 5, 1], [5, 9, 8, 9, 2, 7], [5, 3, 5, 4, 5, 9], [8, 3, 7, 2, 2, 3]]\n",
            "m2 = [[4, 2, 2, 2, 8, 1, 9], [2, 5, 4, 4, 3, 8, 6], [4, 7, 2, 1, 7, 9, 7], [4, 8, 5, 6, 7, 7, 3], [4, 9, 1, 6, 1, 7, 2], [5, 8, 5, 3, 8, 2, 6]]\n",
            "result 1 (list method) =  [[137, 221, 108, 131, 215, 222, 213], [71, 138, 60, 89, 94, 120, 69], [149, 257, 144, 141, 244, 240, 228], [127, 209, 102, 108, 189, 155, 174], [97, 138, 69, 68, 162, 129, 167]]\n",
            "result 2 (numpy method)=  [[137 221 108 131 215 222 213]\n",
            " [ 71 138  60  89  94 120  69]\n",
            " [149 257 144 141 244 240 228]\n",
            " [127 209 102 108 189 155 174]\n",
            " [ 97 138  69  68 162 129 167]]\n",
            "list method:  36.201 +/- 13.639  micro sec\n",
            "numpy method:  14.263 +/- 12.285  micro sec\n"
          ]
        }
      ],
      "source": [
        "n = 5\n",
        "k = 6\n",
        "m = 7\n",
        "\n",
        "# initialize matrices m1 and m2\n",
        "m1 = []\n",
        "for i in range(n):\n",
        "  column = []\n",
        "  for j in range(k):\n",
        "    column.append(r.randint(1,9))\n",
        "  m1.append(column)\n",
        "\n",
        "m2 = []\n",
        "for i in range(k):\n",
        "  column = []\n",
        "  for j in range(m):\n",
        "    column.append(r.randint(1,9))\n",
        "  m2.append(column)\n",
        "\n",
        "# matrix to store the result \n",
        "m3 = []\n",
        "for i in range(n):\n",
        "  column = []\n",
        "  for j in range(m):\n",
        "    column.append(0)\n",
        "  m3.append(column)\n",
        "\n",
        "time1 = []\n",
        "time2 = []\n",
        "\n",
        "# list method\n",
        "def f1(m1,m2,m3):\n",
        "  for i in range (len(m1)):\n",
        "    for j in range (len(m2[0])):\n",
        "      for p in range (len(m1[0])):\n",
        "        m3[i][j] += m1[i][p]*m2[p][j]\n",
        "  return m3\n",
        "\n",
        "# numpy method\n",
        "def f2(m1,m2):\n",
        "  return np.dot(m1,m2)\n",
        "\n",
        "print(\"m1 = \", m1)\n",
        "print(\"m2 =\", m2)\n",
        "print(\"result 1 (list method) = \", f1(m1,m2,m3))\n",
        "print(\"result 2 (numpy method)= \", f2(m1,m2))\n",
        "\n",
        "for count in range(1000):\n",
        "  \n",
        "  for i in range(n):\n",
        "    for j in range(m):\n",
        "      m3[i][j] = 0\n",
        "\n",
        "  t0 = tt.default_timer()\n",
        "  result1 = f1(m1,m2,m3)\n",
        "  t1 = tt.default_timer()\n",
        "  time = (t1 - t0)*1000000\n",
        "  time1.append(time)\n",
        "\n",
        "\n",
        "  t0 = tt.default_timer() \n",
        "  result2 = f2(m1,m2)\n",
        "  t1 = tt.default_timer()\n",
        "  time = (t1 - t0)*1000000\n",
        "  time2.append(time)\n",
        "\n",
        "# average times\n",
        "ti1 = sum(time1)/len(time1)\n",
        "ti2 = sum(time2)/len(time2)\n",
        "ti1 = round(ti1,3)\n",
        "ti2 = round(ti2,3)\n",
        "\n",
        "# sd's\n",
        "sd1 = st.pstdev(time1)\n",
        "sd2 = st.pstdev(time2)\n",
        "sd1 = round(sd1,3)\n",
        "sd2 = round(sd2,3)\n",
        "\n",
        "print(\"list method: \", ti1,\"+/-\", sd1, \" micro sec\")\n",
        "print(\"numpy method: \", ti2,\"+/-\", sd2, \" micro sec\")"
      ]
    },
    {
      "cell_type": "markdown",
      "metadata": {
        "id": "ujlJq7K4idzc"
      },
      "source": [
        "We can see that using numpy is faster because it does the calculations in a parallel manner. Numpy libraries are written in C or C++ which makes it faster."
      ]
    },
    {
      "cell_type": "markdown",
      "metadata": {
        "id": "RCWEpeaDj5I3"
      },
      "source": [
        "**3. Finding the highest element in a list requires one pass of the array. Finding the second highest element requires 2 passes of the the array. Using this method, what is the time complexity of finding the median of the array? Can you suggest a better method? Can you implement both these methods in Python and compare against numpy.median routine in terms of time?**"
      ]
    },
    {
      "cell_type": "markdown",
      "metadata": {
        "id": "_Tn1KhWKk3eA"
      },
      "source": [
        "If the size of the array is n, then the time complexity of finding the median of the array will be $O(n^{\\lceil \\frac{n}{2} \\rceil})$.\\\n",
        "A better method would be to sort the array in $O(nlog(n))$ time and then finding the middle element in $O(1)$ time."
      ]
    },
    {
      "cell_type": "code",
      "execution_count": 5,
      "metadata": {
        "colab": {
          "base_uri": "https://localhost:8080/"
        },
        "id": "qpRuQ88YJ03X",
        "outputId": "8a092bf2-5cc5-40b1-f69b-29b59b96e50e"
      },
      "outputs": [
        {
          "name": "stdout",
          "output_type": "stream",
          "text": [
            "51\n",
            "51\n",
            "51\n",
            "n//2 pass method:  14923.477 +/- 1978.312  micro sec\n",
            "sort method:  6.982 +/- 2.218  micro sec\n",
            "numpy method:  136.807 +/- 49.25  micro sec\n"
          ]
        }
      ],
      "source": [
        "# assume odd length array\n",
        "num = []\n",
        "n = 999\n",
        "for h in range(n):\n",
        "  num.append(r.randint(1,101))\n",
        "copy = num.copy()\n",
        "iterations = n//2\n",
        "\n",
        "# ceil(n/2) passes\n",
        "def f3(num):\n",
        "  for r in range(iterations):\n",
        "    max = num[0]\n",
        "    for t in range(1,len(num)):\n",
        "      if num[t] > max:\n",
        "        max = num[t]\n",
        "    num.remove(max)\n",
        "  max = num[0]\n",
        "  for t in range(1,len(num)):\n",
        "    if num[t] > max:\n",
        "      max = num[t]\n",
        "  return max\n",
        "\n",
        "# sorting method\n",
        "def f4():\n",
        "  num.sort()\n",
        "  return num[iterations]\n",
        "\n",
        "# numpy.median method\n",
        "def f5():\n",
        "  return np.median(num)\n",
        "  \n",
        "print(f3(copy))\n",
        "print(f4())\n",
        "print(int(f5()))\n",
        "\n",
        "time3 = []\n",
        "time4 = []\n",
        "time5 = []\n",
        "# time calculation\n",
        "for count in range(1000):\n",
        "  copy = num.copy()\n",
        "\n",
        "  t0 = tt.default_timer()\n",
        "  r3 = f3(copy)\n",
        "  t1 = tt.default_timer()\n",
        "  time = (t1 - t0)*1000000\n",
        "  time3.append(time)\n",
        "\n",
        "\n",
        "  t0 = tt.default_timer() \n",
        "  r4 = f4()\n",
        "  t1 = tt.default_timer()\n",
        "  time = (t1 - t0)*1000000\n",
        "  time4.append(time)\n",
        "\n",
        "  t0 = tt.default_timer() \n",
        "  r5 = f5()\n",
        "  t1 = tt.default_timer()\n",
        "  time = (t1 - t0)*1000000\n",
        "  time5.append(time)\n",
        "\n",
        "# average times\n",
        "ti3 = sum(time3)/len(time3)\n",
        "ti4 = sum(time4)/len(time4)\n",
        "ti5 = sum(time5)/len(time5)\n",
        "ti3 = round(ti3,3)\n",
        "ti4 = round(ti4,3)\n",
        "ti5 = round(ti5,3)\n",
        "# sd's\n",
        "sd3 = st.pstdev(time3)\n",
        "sd4 = st.pstdev(time4)\n",
        "sd5 = st.pstdev(time5)\n",
        "sd3 = round(sd3,3)\n",
        "sd4 = round(sd4,3)\n",
        "sd5 = round(sd5,3)\n",
        "\n",
        "print(\"n//2 pass method: \", ti3,\"+/-\", sd3, \" micro sec\")\n",
        "print(\"sort method: \", ti4,\"+/-\", sd4, \" micro sec\")\n",
        "print(\"numpy method: \", ti5,\"+/-\", sd5, \" micro sec\")"
      ]
    },
    {
      "cell_type": "markdown",
      "metadata": {
        "id": "Vw-8ai9WcVaF"
      },
      "source": [
        "The order of time complexities is as follows:\\\n",
        "repeated traversal >> numpy.median() > sort().\n"
      ]
    },
    {
      "cell_type": "markdown",
      "metadata": {
        "id": "vPl_C3Suoq-W"
      },
      "source": [
        "**4. What is the gradient of the following function with respect to x and y?\\\n",
        "$x^2y + y^3sin(x)$**\n"
      ]
    },
    {
      "cell_type": "markdown",
      "metadata": {
        "id": "ZeDMs1bSquxA"
      },
      "source": [
        "wrt $x$, the gradient is $2xy$ $+$ $y^3cos(x)$\\\n",
        "wrt $y$, the gradient is $x^2$ $+$ $3y^2sin(x)$"
      ]
    },
    {
      "cell_type": "markdown",
      "metadata": {
        "id": "Qwmn3fYqrSji"
      },
      "source": [
        "**5. Use JAX to confirm the gradient evaluated by your method matches the analytical solution corresponding to a few random values of x and y**"
      ]
    },
    {
      "cell_type": "code",
      "execution_count": 6,
      "metadata": {
        "colab": {
          "base_uri": "https://localhost:8080/"
        },
        "id": "WQ7JWYI3wySp",
        "outputId": "bd35771b-905d-4a82-d1f7-a83ab6e0ab4c"
      },
      "outputs": [
        {
          "name": "stdout",
          "output_type": "stream",
          "text": [
            "8.07 8.43\n",
            "wrt x- JAX:  7.6528472900390625  manual:  7.6528472900390625\n",
            "wrt y- JAX:  273.36468505859375  manual:  273.36468505859375\n",
            "2.71 6.02\n",
            "wrt x- JAX:  -165.53302001953125  manual:  -165.53302001953125\n",
            "wrt y- JAX:  52.82412338256836  manual:  52.824127197265625\n",
            "4.81 0.71\n",
            "wrt x- JAX:  6.8650803565979  manual:  6.865080833435059\n",
            "wrt y- JAX:  21.631000518798828  manual:  21.631000518798828\n",
            "2.36 5.63\n",
            "wrt x- JAX:  -100.09139251708984  manual:  -100.09139251708984\n",
            "wrt y- JAX:  72.55252838134766  manual:  72.55252075195312\n",
            "1.88 9.21\n",
            "wrt x- JAX:  -203.09881591796875  manual:  -203.09881591796875\n",
            "wrt y- JAX:  245.9386749267578  manual:  245.93865966796875\n"
          ]
        }
      ],
      "source": [
        "def f(x, y):\n",
        "  return x**2*y + y**3*jnp.sin(x)\n",
        "\n",
        "# manual derivatives\n",
        "def fx(x, y):\n",
        "  return 2*x*y + y**3*jnp.cos(x)\n",
        "def fy(x, y):\n",
        "  return x**2 + 3*y**2*jnp.sin(x)\n",
        "\n",
        "\n",
        "df_dx = grad(f, argnums=0)\n",
        "df_dy = grad(f, argnums=1)\n",
        "for i in range(5):\n",
        "  x = round(r.uniform(0.0,10.0),2)\n",
        "  y = round(r.uniform(0.0,10.0),2)\n",
        "  print(x,y)\n",
        "  print(\"wrt x- JAX: \",float(df_dx(x, y)),\" manual: \",float(fx(x,y)))\n",
        "  print(\"wrt y- JAX: \",float(df_dy(x, y)),\" manual: \",float(fy(x,y)))"
      ]
    },
    {
      "cell_type": "markdown",
      "metadata": {
        "id": "c7xJcwxevSfW"
      },
      "source": [
        "**6. Use sympy to confirm that you obtain the same gradient analytically.**"
      ]
    },
    {
      "cell_type": "code",
      "execution_count": 7,
      "metadata": {
        "colab": {
          "base_uri": "https://localhost:8080/"
        },
        "id": "SFIonuL2vYPB",
        "outputId": "b287ccae-5491-4ec3-9e3c-ee1b12e9f6b8"
      },
      "outputs": [
        {
          "name": "stdout",
          "output_type": "stream",
          "text": [
            "2*x*y + y**3*cos(x)\n",
            "x**2 + 3*y**2*sin(x)\n"
          ]
        }
      ],
      "source": [
        "x, y = smp.symbols('x y', real = True)\n",
        "f = x**2*y + y**3*smp.sin(x)\n",
        "\n",
        "df_dx = smp.diff(f, x)\n",
        "df_dy = smp.diff(f, y)\n",
        "print(df_dx)\n",
        "print(df_dy)"
      ]
    },
    {
      "cell_type": "markdown",
      "metadata": {
        "id": "aZSXYAr-H62S"
      },
      "source": [
        "**7. Create a Python nested dictionary to represent hierarchical information. We want to store record of students and their marks.** "
      ]
    },
    {
      "cell_type": "code",
      "execution_count": 10,
      "metadata": {
        "colab": {
          "base_uri": "https://localhost:8080/"
        },
        "id": "TXHrM2GoIYX4",
        "outputId": "7c63d8c4-7cd4-4904-fe82-af7fc62b116a"
      },
      "outputs": [
        {
          "name": "stdout",
          "output_type": "stream",
          "text": [
            "{'Branch 1': {}, 'Branch 2': {'Roll Number': '3', 'Name': 'Pam', 'Marks': {'Maths': 60, 'English': 80, 'Physics': 90}}}\n"
          ]
        }
      ],
      "source": [
        "college = {}\n",
        "college[2022] = {'Branch 1':{}, 'Branch 2':{}}\n",
        "college[2023] = {'Branch 1':{}, 'Branch 2':{}}\n",
        "college[2024] = {'Branch 1':{}, 'Branch 2':{}}\n",
        "college[2025] = {'Branch 1':{}, 'Branch 2':{}}\n",
        "college[2022]['Branch 1'] = {'Roll Number': '1','Name':'Max','Marks':{'Maths':100, 'English':99, 'Physics':70}}\n",
        "college[2024]['Branch 2'] = {'Roll Number': '3','Name':'Pam','Marks':{'Maths':60, 'English':80, 'Physics':90}}\n",
        "college[2023]['Branch 2'] = {}\n",
        "print(college[2024])"
      ]
    },
    {
      "cell_type": "markdown",
      "metadata": {},
      "source": [
        "**8. Store the same information using Python classes. We have an overall database which is a list of year objects. Each year contains a list of branches. Each branch contains a list of students. Each student has some properties like name, roll number and has marks in some subjects.**"
      ]
    },
    {
      "cell_type": "code",
      "execution_count": 12,
      "metadata": {},
      "outputs": [
        {
          "name": "stdout",
          "output_type": "stream",
          "text": [
            "2022\n",
            "Branch 1\n",
            "Roll Number: 1, Name: Max, Marks: {'Maths': 100, 'English': 99, 'Physics': 70}\n",
            "Branch 2\n",
            "Roll Number: 3, Name: Pam, Marks: {'Maths': 60, 'English': 80, 'Physics': 90}\n"
          ]
        }
      ],
      "source": [
        "class Student:\n",
        "    def __init__(self, roll_number, name, marks):\n",
        "        self.roll_number = roll_number\n",
        "        self.name = name\n",
        "        self.marks = marks\n",
        "\n",
        "    def __str__(self):\n",
        "        return f\"Roll Number: {self.roll_number}, Name: {self.name}, Marks: {self.marks}\"\n",
        "\n",
        "\n",
        "class Branch:\n",
        "    def __init__(self, name, students=None):\n",
        "        self.name = name\n",
        "        self.students = students or []\n",
        "\n",
        "    def add_student(self, student):\n",
        "        self.students.append(student)\n",
        "\n",
        "    def __str__(self):\n",
        "        students_info = \"\\n\".join(str(student) for student in self.students)\n",
        "        return f\"{self.name}\\n{students_info}\"\n",
        "\n",
        "\n",
        "class Year:\n",
        "    def __init__(self, year, branches=None):\n",
        "        self.year = year\n",
        "        self.branches = branches or []\n",
        "\n",
        "    def add_branch(self, branch):\n",
        "        self.branches.append(branch)\n",
        "\n",
        "    def __str__(self):\n",
        "        branches_info = \"\\n\".join(str(branch) for branch in self.branches)\n",
        "        return f\"{self.year}\\n{branches_info}\"\n",
        "\n",
        "\n",
        "# Creating instances and storing information\n",
        "student1 = Student(1, \"Max\", {'Maths':100, 'English':99, 'Physics':70})\n",
        "student2 = Student(3, \"Pam\", {'Maths':60, 'English':80, 'Physics':90})\n",
        "\n",
        "branch1 = Branch(\"Branch 1\", [student1])\n",
        "branch2 = Branch(\"Branch 2\", [student2])\n",
        "\n",
        "year2022 = Year(2022, [branch1, branch2])\n",
        "\n",
        "# Add more years and branches as needed\n",
        "\n",
        "# Creating the overall database\n",
        "database = [year2022]\n",
        "\n",
        "# Printing the information\n",
        "for year in database:\n",
        "    print(year)"
      ]
    },
    {
      "cell_type": "markdown",
      "metadata": {
        "id": "295ufEz5YbKH"
      },
      "source": [
        "**9. Using matplotlib plot the following functions on the domain: x = 0.5 to 100.0 in steps of 0.5.**"
      ]
    },
    {
      "cell_type": "markdown",
      "metadata": {
        "id": "yoHVpUPYflYS"
      },
      "source": [
        "**$y$ $=$ $x$**"
      ]
    },
    {
      "cell_type": "code",
      "execution_count": 13,
      "metadata": {
        "colab": {
          "base_uri": "https://localhost:8080/",
          "height": 265
        },
        "id": "pSTt3-0ta1MJ",
        "outputId": "603c356c-7cb4-462b-e0d5-c6e702442171"
      },
      "outputs": [
        {
          "data": {
            "image/png": "[encoded data removed]",
            "text/plain": [
              "<Figure size 640x480 with 1 Axes>"
            ]
          },
          "metadata": {},
          "output_type": "display_data"
        }
      ],
      "source": [
        "x = np.linspace(0.5,100,200)\n",
        "y1 = x\n",
        "plt.plot(x, y1, '-b', label='y=x')\n",
        "plt.legend(loc='upper left')\n",
        "plt.grid()\n",
        "plt.show()"
      ]
    },
    {
      "cell_type": "markdown",
      "metadata": {
        "id": "jYG15OsDfx4Z"
      },
      "source": [
        "**$y$ $=$ $x^2$, $y$ $=$ $x^3/100$**"
      ]
    },
    {
      "cell_type": "code",
      "execution_count": 14,
      "metadata": {
        "colab": {
          "base_uri": "https://localhost:8080/",
          "height": 265
        },
        "id": "wke2TraYeee9",
        "outputId": "2b85fca6-f238-45b7-baf8-3322856da39b"
      },
      "outputs": [
        {
          "data": {
            "image/png": "[encoded data removed]",
            "text/plain": [
              "<Figure size 640x480 with 1 Axes>"
            ]
          },
          "metadata": {},
          "output_type": "display_data"
        }
      ],
      "source": [
        "y2 = x*x\n",
        "y3 = (x**3)/100\n",
        "plt.plot(x, y2, '-r', label='y=x^2')\n",
        "plt.plot(x, y3, '-c', label='y=x^3/100')\n",
        "plt.legend(loc='upper left')\n",
        "plt.grid()\n",
        "plt.show()"
      ]
    },
    {
      "cell_type": "markdown",
      "metadata": {
        "id": "Xg0EMz2JgH7s"
      },
      "source": [
        "**$y$ $=$ $sin(x)$, $y$ $=$ $sin(x)/x$, $y$ $=$ $log(x)$**"
      ]
    },
    {
      "cell_type": "code",
      "execution_count": 15,
      "metadata": {
        "colab": {
          "base_uri": "https://localhost:8080/",
          "height": 265
        },
        "id": "MlAaL922fHza",
        "outputId": "82d750ed-5d4f-4bac-d4cc-930f44418bdd"
      },
      "outputs": [
        {
          "data": {
            "image/png": "[encoded data removed]",
            "text/plain": [
              "<Figure size 640x480 with 1 Axes>"
            ]
          },
          "metadata": {},
          "output_type": "display_data"
        }
      ],
      "source": [
        "y4 = np.sin(x)\n",
        "y5 = np.sin(x)/x\n",
        "y6 = np.log10(x)\n",
        "plt.plot(x, y4, '-r', label='y=sin(x)')\n",
        "plt.plot(x, y5, '-g', label='y=sin(x)/x')\n",
        "plt.plot(x, y6, '-b', label='y=log(x)')\n",
        "plt.legend(loc='upper left')\n",
        "plt.grid()\n",
        "plt.show()"
      ]
    },
    {
      "cell_type": "markdown",
      "metadata": {
        "id": "bFH2G0-IgZo0"
      },
      "source": [
        "**$y$ $=$ $e^x$**"
      ]
    },
    {
      "cell_type": "code",
      "execution_count": 16,
      "metadata": {
        "colab": {
          "base_uri": "https://localhost:8080/",
          "height": 276
        },
        "id": "kxUVXLGweqtT",
        "outputId": "d9027e3a-92c1-403b-81c0-b6c177d271da"
      },
      "outputs": [
        {
          "data": {
            "image/png": "[encoded data removed]",
            "text/plain": [
              "<Figure size 640x480 with 1 Axes>"
            ]
          },
          "metadata": {},
          "output_type": "display_data"
        }
      ],
      "source": [
        "y7 = np.exp(x)\n",
        "plt.plot(x, y7, '-c', label='y=e^x')\n",
        "plt.legend(loc='upper left')\n",
        "plt.grid()\n",
        "plt.show()"
      ]
    },
    {
      "cell_type": "markdown",
      "metadata": {
        "id": "RyiP_5I0nAVg"
      },
      "source": [
        "**10. Using numpy generate a matrix of size 20X5 containing random numbers drawn uniformly from the range of 1 to 2. Using Pandas create a dataframe out of this matrix. Name the columns of the dataframe as “a”, “b”, “c”, “d”, “e”. Find the column with the highest standard deviation. Find the row with the lowest mean.**"
      ]
    },
    {
      "cell_type": "code",
      "execution_count": 18,
      "metadata": {
        "colab": {
          "base_uri": "https://localhost:8080/"
        },
        "id": "tKe_qKxPnI-Y",
        "outputId": "0fa245d4-bb39-4f65-dd37-77e06166069a"
      },
      "outputs": [
        {
          "name": "stdout",
          "output_type": "stream",
          "text": [
            "           a         b         c         d         e\n",
            "0   1.742343  1.339705  1.027493  1.261891  1.791561\n",
            "1   1.123148  1.667779  1.567074  1.317702  1.612719\n",
            "2   1.459403  1.063891  1.264257  1.959154  1.818650\n",
            "3   1.621918  1.089427  1.871468  1.568053  1.162517\n",
            "4   1.928894  1.154834  1.745864  1.544800  1.306988\n",
            "5   1.325504  1.133005  1.056589  1.502014  1.049858\n",
            "6   1.855790  1.217205  1.183078  1.290861  1.530381\n",
            "7   1.873578  1.844979  1.714484  1.134461  1.361611\n",
            "8   1.358341  1.187821  1.038031  1.172038  1.208871\n",
            "9   1.333690  1.131084  1.398760  1.687349  1.082602\n",
            "10  1.471920  1.206115  1.718936  1.855088  1.505322\n",
            "11  1.555447  1.229125  1.958397  1.069970  1.844540\n",
            "12  1.526173  1.796185  1.318671  1.206857  1.182399\n",
            "13  1.472580  1.298384  1.007219  1.027528  1.967776\n",
            "14  1.324562  1.710053  1.839942  1.402044  1.753880\n",
            "15  1.063905  1.111657  1.571954  1.300172  1.232044\n",
            "16  1.854064  1.975888  1.808182  1.658387  1.830654\n",
            "17  1.810418  1.007677  1.693219  1.829372  1.192360\n",
            "18  1.967802  1.575229  1.846958  1.840470  1.221369\n",
            "19  1.453868  1.016611  1.929079  1.753805  1.340934\n",
            "Column with highest SD:  c\n",
            "Row with lowest mean:  8\n"
          ]
        }
      ],
      "source": [
        "m = []\n",
        "for i in range(20):\n",
        "  column = []\n",
        "  for j in range(5):\n",
        "    column.append(r.uniform(1.0,2.0))\n",
        "  m.append(column)\n",
        "\n",
        "df = pd.DataFrame(m, columns=['a', 'b', 'c', 'd', 'e'])\n",
        "print(df)\n",
        "\n",
        "# separate dataframe containing standard deviations\n",
        "ar = df.std(axis=0)\n",
        "print(\"Column with highest SD: \", ar.idxmax())\n",
        "\n",
        "#separate dataframe containing means\n",
        "arra = df.mean(axis=1)\n",
        "print(\"Row with lowest mean: \", arra.idxmin())"
      ]
    },
    {
      "cell_type": "markdown",
      "metadata": {
        "id": "SFfbxUDQvRj3"
      },
      "source": [
        "**11. Add a new column to the dataframe called “f” which is the sum of the columns “a”, “b”, “c”, “d”, “e”. Create another column called “g”. The value in the column “g” should be “LT8” if the value in the column “f” is less than 8 and “GT8” otherwise. Find the number of rows in the dataframe where the value in the column “g” is “LT8”. Find the standard deviation of the column “f” for the rows where the value in the column “g” is “LT8” and “GT8” respectively.**"
      ]
    },
    {
      "cell_type": "code",
      "execution_count": 21,
      "metadata": {
        "colab": {
          "base_uri": "https://localhost:8080/"
        },
        "id": "gqhZE-kTvWFk",
        "outputId": "96631c43-a2b4-40fe-8e16-ba6245d98779"
      },
      "outputs": [
        {
          "name": "stdout",
          "output_type": "stream",
          "text": [
            "           a         b         c         d         e         f    g\n",
            "0   1.742343  1.339705  1.027493  1.261891  1.791561  7.162993  LT8\n",
            "1   1.123148  1.667779  1.567074  1.317702  1.612719  7.288421  LT8\n",
            "2   1.459403  1.063891  1.264257  1.959154  1.818650  7.565357  LT8\n",
            "3   1.621918  1.089427  1.871468  1.568053  1.162517  7.313382  LT8\n",
            "4   1.928894  1.154834  1.745864  1.544800  1.306988  7.681379  LT8\n",
            "5   1.325504  1.133005  1.056589  1.502014  1.049858  6.066969  LT8\n",
            "6   1.855790  1.217205  1.183078  1.290861  1.530381  7.077315  LT8\n",
            "7   1.873578  1.844979  1.714484  1.134461  1.361611  7.929114  LT8\n",
            "8   1.358341  1.187821  1.038031  1.172038  1.208871  5.965102  LT8\n",
            "9   1.333690  1.131084  1.398760  1.687349  1.082602  6.633485  LT8\n",
            "10  1.471920  1.206115  1.718936  1.855088  1.505322  7.757382  LT8\n",
            "11  1.555447  1.229125  1.958397  1.069970  1.844540  7.657479  LT8\n",
            "12  1.526173  1.796185  1.318671  1.206857  1.182399  7.030286  LT8\n",
            "13  1.472580  1.298384  1.007219  1.027528  1.967776  6.773488  LT8\n",
            "14  1.324562  1.710053  1.839942  1.402044  1.753880  8.030481  GT8\n",
            "15  1.063905  1.111657  1.571954  1.300172  1.232044  6.279732  LT8\n",
            "16  1.854064  1.975888  1.808182  1.658387  1.830654  9.127174  GT8\n",
            "17  1.810418  1.007677  1.693219  1.829372  1.192360  7.533045  LT8\n",
            "18  1.967802  1.575229  1.846958  1.840470  1.221369  8.451828  GT8\n",
            "19  1.453868  1.016611  1.929079  1.753805  1.340934  7.494298  LT8\n"
          ]
        }
      ],
      "source": [
        "sum = df[['a', 'b', 'c', 'd', 'e']].sum(axis=1)\n",
        "df['f'] = sum\n",
        "\n",
        "df.loc[df['f'] < 8, 'g'] = 'LT8'\n",
        "df.loc[df['f'] >= 8, 'g'] = 'GT8'\n",
        "\n",
        "print(df)"
      ]
    },
    {
      "cell_type": "markdown",
      "metadata": {
        "id": "YAisNbL8fd6J"
      },
      "source": [
        "**12. Write a small piece of code to explain broadcasting in numpy.**"
      ]
    },
    {
      "cell_type": "code",
      "execution_count": 22,
      "metadata": {
        "colab": {
          "base_uri": "https://localhost:8080/"
        },
        "id": "KNiyxypnmzL0",
        "outputId": "f3a142fd-8a24-43dc-d978-6d16fb31171a"
      },
      "outputs": [
        {
          "name": "stdout",
          "output_type": "stream",
          "text": [
            "Array 1:\n",
            "[[1 2 3]\n",
            " [4 5 6]]\n",
            "\n",
            "Array 2:\n",
            "[10 20 30]\n",
            "\n",
            "Result after broadcasting:\n",
            "[[11 22 33]\n",
            " [14 25 36]]\n"
          ]
        }
      ],
      "source": [
        "arr1 = np.array([[1, 2, 3],\n",
        "                 [4, 5, 6]])\n",
        "\n",
        "arr2 = np.array([10, 20, 30])\n",
        "\n",
        "result = arr1 + arr2\n",
        "\n",
        "print(\"Array 1:\")\n",
        "print(arr1)\n",
        "\n",
        "print(\"\\nArray 2:\")\n",
        "print(arr2)\n",
        "\n",
        "print(\"\\nResult after broadcasting:\")\n",
        "print(result)\n"
      ]
    },
    {
      "cell_type": "markdown",
      "metadata": {
        "id": "Tm0Jr0Z_mxiz"
      },
      "source": [
        "arr1.shape is (2,3) and arr2.shape is (1,3). arr2[0, : ] is broadcast to its other row to make the shapes identical for addition. "
      ]
    },
    {
      "cell_type": "markdown",
      "metadata": {
        "id": "JiqC_ZlZrG4w"
      },
      "source": [
        "**13. Write a function to compute the argmin of a numpy array. The function should take a numpy array as input and return the index of the minimum element. You can use the np.argmin function to verify your solution.**"
      ]
    },
    {
      "cell_type": "code",
      "execution_count": 25,
      "metadata": {
        "colab": {
          "base_uri": "https://localhost:8080/"
        },
        "id": "YKW1UzESaz5U",
        "outputId": "4ebd3ca0-8826-4e68-b1a1-e2021ce8936a"
      },
      "outputs": [
        {
          "name": "stdout",
          "output_type": "stream",
          "text": [
            "Result using function method: 3\n",
            "Result using numpy method: 3\n"
          ]
        }
      ],
      "source": [
        "number = int(input(\"Enter the size of the array: \"))\n",
        "a = list(map(int,input(\"\\nEnter the numbers (separated by space): \").strip().split()))[:number]\n",
        "arr = np.array(a)\n",
        "\n",
        "def f(arr):\n",
        "  min = arr[0]\n",
        "  i = 0\n",
        "  # calcuate argmin\n",
        "  for h in range(1,number):\n",
        "    if arr[h] < min:\n",
        "      min = arr[h]\n",
        "      i = h\n",
        "  return i\n",
        "\n",
        "print(\"Result using function method: \" + str(f(arr)))\n",
        "print(\"Result using numpy method: \" + str(np.argmin(arr)))"
      ]
    }
  ],
  "metadata": {
    "colab": {
      "provenance": []
    },
    "kernelspec": {
      "display_name": "Python 3",
      "name": "python3"
    },
    "language_info": {
      "codemirror_mode": {
        "name": "ipython",
        "version": 3
      },
      "file_extension": ".py",
      "mimetype": "text/x-python",
      "name": "python",
      "nbconvert_exporter": "python",
      "pygments_lexer": "ipython3",
      "version": "3.9.13"
    }
  },
  "nbformat": 4,
  "nbformat_minor": 0
}
